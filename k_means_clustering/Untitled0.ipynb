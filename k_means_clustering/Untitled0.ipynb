{
 "metadata": {
  "name": "",
  "signature": "sha256:bb4f31000f70864093b7a6623180c6d6847f10c77f473019fe71121f01459085"
 },
 "nbformat": 3,
 "nbformat_minor": 0,
 "worksheets": []
}